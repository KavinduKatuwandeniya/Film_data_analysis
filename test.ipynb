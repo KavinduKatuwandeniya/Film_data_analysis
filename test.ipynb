{
 "cells": [
  {
   "cell_type": "code",
   "execution_count": 1,
   "metadata": {
    "collapsed": true
   },
   "outputs": [
    {
     "name": "stdout",
     "output_type": "stream",
     "text": [
      "Requirement already satisfied: pyspark in c:\\users\\hp\\appdata\\roaming\\python\\python39\\site-packages (3.4.0)\n",
      "Collecting py4j==0.10.9.7\n",
      "  Using cached py4j-0.10.9.7-py2.py3-none-any.whl (200 kB)\n",
      "Installing collected packages: py4j\n",
      "Successfully installed py4j-0.10.9.7\n"
     ]
    },
    {
     "name": "stderr",
     "output_type": "stream",
     "text": [
      "\n",
      "[notice] A new release of pip available: 22.3.1 -> 23.1.2\n",
      "[notice] To update, run: c:\\users\\hp\\appdata\\local\\activestate\\cache\\ed25e4a3\\python.exe -m pip install --upgrade pip\n"
     ]
    }
   ],
   "source": [
    "import explode as explode\n",
    "import split as split\n",
    "!pip install pyspark"
   ]
  },
  {
   "cell_type": "markdown",
   "source": [
    "**Import Necessary Libraries**\n"
   ],
   "metadata": {
    "collapsed": false
   }
  },
  {
   "cell_type": "code",
   "execution_count": 27,
   "outputs": [],
   "source": [
    "from pyspark import SparkContext\n",
    "from pyspark.sql import SparkSession\n",
    "from pyspark.sql.functions import sum\n",
    "from pyspark.sql.functions import col\n",
    "from pyspark.sql.functions import split, explode\n",
    "\n"
   ],
   "metadata": {
    "collapsed": false
   }
  },
  {
   "cell_type": "code",
   "execution_count": 6,
   "outputs": [],
   "source": [
    "spark = SparkSession.builder.appName(\"SuccessfulCrewMembers\").getOrCreate()"
   ],
   "metadata": {
    "collapsed": false
   }
  },
  {
   "cell_type": "markdown",
   "source": [
    "**Import Crew Data**"
   ],
   "metadata": {
    "collapsed": false
   }
  },
  {
   "cell_type": "code",
   "execution_count": 12,
   "outputs": [],
   "source": [
    "crew_df = spark.read.option(\"header\", \"true\").option(\"delimiter\", \"\\t\").csv(\"data_files/title.crew.tsv\")\n"
   ],
   "metadata": {
    "collapsed": false
   }
  },
  {
   "cell_type": "code",
   "execution_count": 29,
   "outputs": [
    {
     "name": "stdout",
     "output_type": "stream",
     "text": [
      "+---------+---------+---------+\n",
      "|   tconst|directors|  writers|\n",
      "+---------+---------+---------+\n",
      "|tt0000001|nm0005690|       \\N|\n",
      "|tt0000002|nm0721526|       \\N|\n",
      "|tt0000003|nm0721526|       \\N|\n",
      "|tt0000004|nm0721526|       \\N|\n",
      "|tt0000005|nm0005690|       \\N|\n",
      "|tt0000006|nm0005690|       \\N|\n",
      "|tt0000007|nm0005690|       \\N|\n",
      "|tt0000007|nm0374658|       \\N|\n",
      "|tt0000008|nm0005690|       \\N|\n",
      "|tt0000009|nm0085156|nm0085156|\n",
      "|tt0000010|nm0525910|       \\N|\n",
      "|tt0000011|nm0804434|       \\N|\n",
      "|tt0000012|nm0525908|       \\N|\n",
      "|tt0000012|nm0525910|       \\N|\n",
      "|tt0000013|nm0525910|       \\N|\n",
      "|tt0000014|nm0525910|       \\N|\n",
      "|tt0000015|nm0721526|       \\N|\n",
      "|tt0000016|nm0525910|       \\N|\n",
      "|tt0000017|nm1587194|       \\N|\n",
      "|tt0000017|nm0804434|       \\N|\n",
      "|tt0000018|nm0804434|       \\N|\n",
      "|tt0000019|nm0932055|       \\N|\n",
      "|tt0000020|nm0010291|       \\N|\n",
      "|tt0000022|nm0525910|       \\N|\n",
      "|tt0000023|nm0525910|       \\N|\n",
      "|tt0000024|nm0010291|       \\N|\n",
      "|tt0000025|nm0010291|       \\N|\n",
      "|tt0000026|nm0525910|       \\N|\n",
      "|tt0000027|nm0525910|       \\N|\n",
      "|tt0000028|nm0525910|       \\N|\n",
      "|tt0000029|nm0525910|       \\N|\n",
      "|tt0000030|nm0010291|       \\N|\n",
      "|tt0000030|nm0666972|       \\N|\n",
      "|tt0000031|nm0525910|       \\N|\n",
      "|tt0000032|nm0804434|       \\N|\n",
      "|tt0000033|nm0525910|       \\N|\n",
      "|tt0000034|nm0617588|       \\N|\n",
      "|tt0000035|nm0617588|       \\N|\n",
      "|tt0000036|nm0005690|nm0410331|\n",
      "|tt0000037|nm0617588|       \\N|\n",
      "|tt0000038|nm0374658|       \\N|\n",
      "|tt0000039|       \\N|       \\N|\n",
      "|tt0000040|nm0617588|       \\N|\n",
      "|tt0000041|nm0525910|       \\N|\n",
      "|tt0000042|nm0617588|       \\N|\n",
      "|tt0000043|nm0617588|       \\N|\n",
      "|tt0000044|nm0617588|       \\N|\n",
      "|tt0000045|nm0617588|       \\N|\n",
      "|tt0000046|nm0617588|       \\N|\n",
      "|tt0000047|nm0617588|       \\N|\n",
      "|tt0000048|nm0010291|       \\N|\n",
      "|tt0000049|nm0010291|       \\N|\n",
      "|tt0000050|nm0617588|       \\N|\n",
      "|tt0000051|nm0617588|       \\N|\n",
      "|tt0000052|nm0895515|       \\N|\n",
      "|tt0000053|nm0684607|       \\N|\n",
      "|tt0000054|nm0617588|       \\N|\n",
      "|tt0000055|nm0617588|       \\N|\n",
      "|tt0000056|nm0795060|       \\N|\n",
      "|tt0000057|nm0617588|       \\N|\n",
      "|tt0000058|nm0617588|       \\N|\n",
      "|tt0000059|nm0617588|       \\N|\n",
      "|tt0000060|nm0005690|       \\N|\n",
      "|tt0000061|nm0010291|       \\N|\n",
      "|tt0000062|nm0617588|       \\N|\n",
      "|tt0000063|nm0617588|       \\N|\n",
      "|tt0000064|nm0617588|       \\N|\n",
      "|tt0000065|nm0617588|       \\N|\n",
      "|tt0000066|nm0617588|       \\N|\n",
      "|tt0000067|nm0617588|       \\N|\n",
      "|tt0000068|nm0617588|       \\N|\n",
      "|tt0000069|nm0617588|       \\N|\n",
      "|tt0000070|nm0525910|       \\N|\n",
      "|tt0000071|nm0617588|       \\N|\n",
      "|tt0000072|nm0617588|       \\N|\n",
      "|tt0000073|nm0617588|       \\N|\n",
      "|tt0000074|nm0617588|       \\N|\n",
      "|tt0000075|nm0617588|       \\N|\n",
      "|tt0000076|nm0005690|nm0410331|\n",
      "|tt0000077|nm0617588|       \\N|\n",
      "|tt0000078|nm0234288|       \\N|\n",
      "|tt0000079|nm0617588|       \\N|\n",
      "|tt0000080|nm0617588|       \\N|\n",
      "|tt0000081|nm0617588|       \\N|\n",
      "|tt0000082|nm0005690|       \\N|\n",
      "|tt0000083|nm0617588|       \\N|\n",
      "|tt0000084|nm0617588|       \\N|\n",
      "|tt0000085|nm0617588|       \\N|\n",
      "|tt0000086|nm0617588|       \\N|\n",
      "|tt0000087|nm0617588|       \\N|\n",
      "|tt0000088|nm0617588|       \\N|\n",
      "|tt0000089|nm0525908|       \\N|\n",
      "|tt0000089|nm0698645|       \\N|\n",
      "|tt0000090|nm0617588|       \\N|\n",
      "|tt0000091|nm0617588|nm0617588|\n",
      "|tt0000092|nm0617588|       \\N|\n",
      "|tt0000093|nm0525910|       \\N|\n",
      "|tt0000093|nm0525908|       \\N|\n",
      "|tt0000094|nm0617588|       \\N|\n",
      "|tt0000095|nm0617588|       \\N|\n",
      "+---------+---------+---------+\n",
      "only showing top 100 rows\n",
      "\n"
     ]
    }
   ],
   "source": [
    "filtered_crew_df=crew_df.withColumn(\"directors\", explode(split(\"directors\", \",\")))\n",
    "filtered_crew_df.show(100)\n"
   ],
   "metadata": {
    "collapsed": false
   }
  },
  {
   "cell_type": "markdown",
   "source": [
    "**Import Rating Data**"
   ],
   "metadata": {
    "collapsed": false
   }
  },
  {
   "cell_type": "code",
   "execution_count": 16,
   "outputs": [],
   "source": [
    "rating_df = spark.read.option(\"header\", \"true\").option(\"delimiter\", \"\\t\").csv(\"data_files/title.ratings.tsv\")"
   ],
   "metadata": {
    "collapsed": false
   }
  },
  {
   "cell_type": "code",
   "execution_count": 17,
   "outputs": [
    {
     "name": "stdout",
     "output_type": "stream",
     "text": [
      "+---------+-------------+--------+\n",
      "|   tconst|averageRating|numVotes|\n",
      "+---------+-------------+--------+\n",
      "|tt0000001|          5.7|    1966|\n",
      "|tt0000002|          5.8|     264|\n",
      "|tt0000003|          6.5|    1809|\n",
      "|tt0000004|          5.6|     178|\n",
      "|tt0000005|          6.2|    2608|\n",
      "|tt0000006|          5.2|     181|\n",
      "|tt0000007|          5.4|     816|\n",
      "|tt0000008|          5.4|    2105|\n",
      "|tt0000009|          5.3|     204|\n",
      "|tt0000010|          6.9|    7128|\n",
      "|tt0000011|          5.3|     366|\n",
      "|tt0000012|          7.4|   12225|\n",
      "|tt0000013|          5.7|    1878|\n",
      "|tt0000014|          7.1|    5490|\n",
      "|tt0000015|          6.2|    1081|\n",
      "|tt0000016|          5.9|    1494|\n",
      "|tt0000017|          4.6|     326|\n",
      "|tt0000018|          5.3|     594|\n",
      "|tt0000019|          5.1|      31|\n",
      "|tt0000020|          4.8|     357|\n",
      "|tt0000022|          5.1|    1090|\n",
      "|tt0000023|          5.7|    1431|\n",
      "|tt0000024|          4.2|     112|\n",
      "|tt0000025|          3.8|      46|\n",
      "|tt0000026|          5.6|    1529|\n",
      "|tt0000027|          5.6|    1150|\n",
      "|tt0000028|          5.1|    1076|\n",
      "|tt0000029|          5.9|    3348|\n",
      "|tt0000030|          5.2|     847|\n",
      "|tt0000031|          5.5|    1003|\n",
      "|tt0000032|          5.0|     418|\n",
      "|tt0000033|          5.5|    1030|\n",
      "|tt0000034|          5.0|     210|\n",
      "|tt0000035|          5.6|      82|\n",
      "|tt0000036|          4.4|     604|\n",
      "|tt0000037|          4.3|      68|\n",
      "|tt0000038|          4.2|     202|\n",
      "|tt0000039|          3.3|      32|\n",
      "|tt0000040|          4.0|      66|\n",
      "|tt0000041|          6.7|    1859|\n",
      "|tt0000042|          3.9|      39|\n",
      "|tt0000043|          3.2|      34|\n",
      "|tt0000044|          3.9|      47|\n",
      "|tt0000045|          3.8|      35|\n",
      "|tt0000046|          3.9|      36|\n",
      "|tt0000047|          3.3|      36|\n",
      "|tt0000048|          4.8|     200|\n",
      "|tt0000049|          5.0|      50|\n",
      "|tt0000050|          3.9|      36|\n",
      "|tt0000051|          3.4|      37|\n",
      "|tt0000052|          4.2|     103|\n",
      "|tt0000053|          3.1|      20|\n",
      "|tt0000054|          4.7|      36|\n",
      "|tt0000055|          3.4|      32|\n",
      "|tt0000056|          2.8|      24|\n",
      "|tt0000057|          4.2|      36|\n",
      "|tt0000058|          4.0|      35|\n",
      "|tt0000059|          3.2|      29|\n",
      "|tt0000060|          7.3|      90|\n",
      "|tt0000061|          3.9|      26|\n",
      "|tt0000062|          6.3|     201|\n",
      "|tt0000063|          3.2|      30|\n",
      "|tt0000064|          2.8|      31|\n",
      "|tt0000065|          3.1|      31|\n",
      "|tt0000066|          3.0|      31|\n",
      "|tt0000067|          5.5|      66|\n",
      "|tt0000068|          3.5|      33|\n",
      "|tt0000069|          4.9|     455|\n",
      "|tt0000070|          6.4|    2638|\n",
      "|tt0000071|          3.1|      31|\n",
      "|tt0000072|          3.3|      29|\n",
      "|tt0000073|          3.2|      32|\n",
      "|tt0000074|          4.3|      33|\n",
      "|tt0000075|          6.3|    1929|\n",
      "|tt0000076|          4.5|     535|\n",
      "|tt0000077|          4.3|      37|\n",
      "|tt0000078|          3.8|      87|\n",
      "|tt0000079|          4.1|      37|\n",
      "|tt0000080|          3.8|      33|\n",
      "|tt0000081|          3.9|      34|\n",
      "|tt0000082|          4.6|      51|\n",
      "|tt0000083|          4.4|      34|\n",
      "|tt0000084|          4.1|      32|\n",
      "|tt0000085|          4.5|      35|\n",
      "|tt0000086|          3.9|      35|\n",
      "|tt0000087|          4.5|      39|\n",
      "|tt0000088|          4.0|      34|\n",
      "|tt0000089|          6.2|     994|\n",
      "|tt0000090|          3.7|      33|\n",
      "|tt0000091|          6.7|    3662|\n",
      "|tt0000092|          4.2|      31|\n",
      "|tt0000093|          4.7|      95|\n",
      "|tt0000094|          4.3|      36|\n",
      "|tt0000095|          4.6|      36|\n",
      "|tt0000096|          4.1|      31|\n",
      "|tt0000097|          4.6|      35|\n",
      "|tt0000098|          4.9|      38|\n",
      "|tt0000099|          4.4|      34|\n",
      "|tt0000100|          4.7|      56|\n",
      "|tt0000101|          4.2|      30|\n",
      "+---------+-------------+--------+\n",
      "only showing top 100 rows\n",
      "\n"
     ]
    }
   ],
   "source": [
    "rating_df.show(100)\n",
    "filtered_rating_df=rating_df"
   ],
   "metadata": {
    "collapsed": false
   }
  },
  {
   "cell_type": "markdown",
   "source": [
    "**Import Namebasics**\n"
   ],
   "metadata": {
    "collapsed": false
   }
  },
  {
   "cell_type": "code",
   "execution_count": 18,
   "outputs": [],
   "source": [
    "name_basics_df = spark.read.option(\"header\", \"true\").option(\"delimiter\", \"\\t\").csv(\"data_files/name.basics.tsv\")\n"
   ],
   "metadata": {
    "collapsed": false
   }
  },
  {
   "cell_type": "code",
   "execution_count": 19,
   "outputs": [
    {
     "name": "stdout",
     "output_type": "stream",
     "text": [
      "+---------+--------------------+---------+---------+--------------------+--------------------+\n",
      "|   nconst|         primaryName|birthYear|deathYear|   primaryProfession|      knownForTitles|\n",
      "+---------+--------------------+---------+---------+--------------------+--------------------+\n",
      "|nm0000001|        Fred Astaire|     1899|     1987|soundtrack,actor,...|tt0050419,tt00455...|\n",
      "|nm0000002|       Lauren Bacall|     1924|     2014|  actress,soundtrack|tt0117057,tt00752...|\n",
      "|nm0000003|     Brigitte Bardot|     1934|       \\N|actress,soundtrac...|tt0057345,tt00491...|\n",
      "|nm0000004|        John Belushi|     1949|     1982|actor,soundtrack,...|tt0072562,tt00779...|\n",
      "|nm0000005|      Ingmar Bergman|     1918|     2007|writer,director,a...|tt0050986,tt00608...|\n",
      "|nm0000006|      Ingrid Bergman|     1915|     1982|actress,soundtrac...|tt0038787,tt00381...|\n",
      "|nm0000007|     Humphrey Bogart|     1899|     1957|actor,soundtrack,...|tt0042593,tt00373...|\n",
      "|nm0000008|       Marlon Brando|     1924|     2004|actor,soundtrack,...|tt0078788,tt00708...|\n",
      "|nm0000009|      Richard Burton|     1925|     1984|actor,soundtrack,...|tt0057877,tt00878...|\n",
      "|nm0000010|        James Cagney|     1899|     1986|actor,soundtrack,...|tt0029870,tt00318...|\n",
      "|nm0000011|         Gary Cooper|     1901|     1961|actor,soundtrack,...|tt0027996,tt00341...|\n",
      "|nm0000012|         Bette Davis|     1908|     1989|actress,soundtrac...|tt0042192,tt00312...|\n",
      "|nm0000013|           Doris Day|     1922|     2019|soundtrack,actres...|tt0045591,tt00494...|\n",
      "|nm0000014| Olivia de Havilland|     1916|     2020|  actress,soundtrack|tt0029843,tt00408...|\n",
      "|nm0000015|          James Dean|     1931|     1955| actor,miscellaneous|tt0049261,tt00442...|\n",
      "|nm0000016|     Georges Delerue|     1925|     1992|composer,soundtra...|tt8847712,tt00963...|\n",
      "|nm0000017|    Marlene Dietrich|     1901|     1992|soundtrack,actres...|tt0055031,tt00211...|\n",
      "|nm0000018|        Kirk Douglas|     1916|     2020|actor,producer,so...|tt0049456,tt00543...|\n",
      "|nm0000019|    Federico Fellini|     1920|     1993|writer,director,a...|tt0047528,tt00507...|\n",
      "|nm0000020|         Henry Fonda|     1905|     1982|actor,producer,so...|tt0082846,tt00500...|\n",
      "|nm0000021|       Joan Fontaine|     1917|     2013|actress,soundtrac...|tt0040536,tt00357...|\n",
      "|nm0000022|         Clark Gable|     1901|     1960|actor,soundtrack,...|tt0025316,tt00233...|\n",
      "|nm0000023|        Judy Garland|     1922|     1969|  soundtrack,actress|tt0055031,tt00321...|\n",
      "|nm0000024|        John Gielgud|     1904|     2000|actor,writer,dire...|tt0082031,tt00459...|\n",
      "|nm0000025|     Jerry Goldsmith|     1929|     2004|music_department,...|tt0112715,tt00772...|\n",
      "|nm0000026|          Cary Grant|     1904|     1986|actor,soundtrack,...|tt0056923,tt00342...|\n",
      "|nm0000027|       Alec Guinness|     1914|     2000|actor,soundtrack,...|tt0041546,tt00767...|\n",
      "|nm0000028|       Rita Hayworth|     1918|     1987|actress,soundtrac...|tt0038559,tt00351...|\n",
      "|nm0000029|   Margaux Hemingway|     1954|     1996|actress,miscellan...|tt0077800,tt00748...|\n",
      "|nm0000030|      Audrey Hepburn|     1929|     1993|  actress,soundtrack|tt0046250,tt00546...|\n",
      "|nm0000031|   Katharine Hepburn|     1907|     2003|actress,soundtrac...|tt0082846,tt00329...|\n",
      "|nm0000032|     Charlton Heston|     1923|     2008|actor,director,wr...|tt0049833,tt00526...|\n",
      "|nm0000033|    Alfred Hitchcock|     1899|     1980|director,producer...|tt0054215,tt00531...|\n",
      "|nm0000034|      William Holden|     1918|     1981|actor,soundtrack,...|tt0074958,tt00463...|\n",
      "|nm0000035|        James Horner|     1953|     2015|music_department,...|tt0120746,tt01203...|\n",
      "|nm0000036|       Buster Keaton|     1895|     1966|actor,writer,dire...|tt0016332,tt00194...|\n",
      "|nm0000037|          Gene Kelly|     1912|     1996|soundtrack,actor,...|tt0045152,tt00539...|\n",
      "|nm0000038|         Grace Kelly|     1929|     1982|actress,soundtrac...|tt0046912,tt00473...|\n",
      "|nm0000039|        Deborah Kerr|     1921|     2007|  actress,soundtrack|tt0049408,tt00457...|\n",
      "|nm0000040|     Stanley Kubrick|     1928|     1999|director,writer,p...|tt0066921,tt00626...|\n",
      "|nm0000041|      Akira Kurosawa|     1910|     1998|writer,director,a...|tt0080979,tt00898...|\n",
      "|nm0000042|           Alan Ladd|     1913|     1964|actor,producer,ca...|tt0038369,tt00390...|\n",
      "|nm0000043|       Veronica Lake|     1922|     1973|actress,soundtrac...|tt0034240,tt00354...|\n",
      "|nm0000044|      Burt Lancaster|     1913|     1994|actor,producer,so...|tt0055031,tt00510...|\n",
      "|nm0000045|           Bruce Lee|     1940|     1973|actor,writer,misc...|tt0068767,tt00678...|\n",
      "|nm0000046|        Vivien Leigh|     1913|     1967|actress,soundtrac...|tt0034272,tt00313...|\n",
      "|nm0000047|        Sophia Loren|     1934|       \\N|  actress,soundtrack|tt0060121,tt00583...|\n",
      "|nm0000048|         Peter Lorre|     1904|     1964|actor,soundtrack,...|tt0022100,tt00338...|\n",
      "|nm0000049|       Henry Mancini|     1924|     1994|music_department,...|tt0054698,tt00574...|\n",
      "|nm0000050|        Groucho Marx|     1890|     1977|soundtrack,actor,...|tt0028772,tt00197...|\n",
      "|nm0000051|         James Mason|     1909|     1984|actor,producer,wr...|tt0047522,tt00459...|\n",
      "|nm0000052|Marcello Mastroianni|     1924|     1996|actor,producer,so...|tt0053779,tt00583...|\n",
      "|nm0000053|      Robert Mitchum|     1917|     1997|actor,soundtrack,...|tt0039689,tt00561...|\n",
      "|nm0000054|      Marilyn Monroe|     1926|     1962|soundtrack,actres...|tt0045810,tt00486...|\n",
      "|nm0000055|       Alfred Newman|     1900|     1970|music_department,...|tt0065377,tt00421...|\n",
      "|nm0000056|         Paul Newman|     1925|     2008|actor,producer,di...|tt0054997,tt00848...|\n",
      "|nm0000057|         David Niven|     1910|     1983|actor,producer,so...|tt0048960,tt00749...|\n",
      "|nm0000058|      Maureen O'Hara|     1920|     2015|  actress,soundtrack|tt0055277,tt01025...|\n",
      "|nm0000059|    Laurence Olivier|     1907|     1989|actor,producer,di...|tt0077269,tt00692...|\n",
      "|nm0000060|        Gregory Peck|     1916|     2003|actor,producer,so...|tt0077269,tt00565...|\n",
      "|nm0000061|        Tyrone Power|     1914|     1958|actor,soundtrack,...|tt0043959,tt00344...|\n",
      "|nm0000062|       Elvis Presley|     1935|     1977|music_artist,soun...|tt0053848,tt00546...|\n",
      "|nm0000063|       Anthony Quinn|     1915|     2001|actor,producer,so...|tt0064952,tt00578...|\n",
      "|nm0000064|  Edward G. Robinson|     1893|     1973|actor,soundtrack,...|tt0049833,tt00367...|\n",
      "|nm0000065|           Nino Rota|     1911|     1979|composer,soundtra...|tt0063518,tt00686...|\n",
      "|nm0000066|        Jane Russell|     1921|     2011|actress,soundtrac...|tt0045810,tt00406...|\n",
      "|nm0000067|        Miklós Rózsa|     1907|     1995|music_department,...|tt0036775,tt00378...|\n",
      "|nm0000068|      Randolph Scott|     1898|     1987|actor,producer,so...|tt0056412,tt00269...|\n",
      "|nm0000069|       Frank Sinatra|     1915|     1998|music_artist,soun...|tt0048347,tt00457...|\n",
      "|nm0000070|         Max Steiner|     1888|     1971|music_department,...|tt0040897,tt00313...|\n",
      "|nm0000071|       James Stewart|     1908|     1997|actor,soundtrack,...|tt0052561,tt00316...|\n",
      "|nm0000072|    Elizabeth Taylor|     1932|     2011|actress,soundtrac...|tt0061184,tt00514...|\n",
      "|nm0000073|      Shirley Temple|     1928|     2014|actress,soundtrac...|tt0030657,tt00160...|\n",
      "|nm0000074|        Gene Tierney|     1920|     1991|  actress,soundtrack|tt0037865,tt00394...|\n",
      "|nm0000075|       Spencer Tracy|     1900|     1967|    actor,soundtrack|tt0047849,tt00539...|\n",
      "|nm0000076|   François Truffaut|     1932|     1984|writer,director,p...|tt0075860,tt00531...|\n",
      "|nm0000077|        Franz Waxman|     1906|     1967|music_department,...|tt0032976,tt00261...|\n",
      "|nm0000078|          John Wayne|     1907|     1979|actor,producer,so...|tt0053580,tt00319...|\n",
      "|nm0000079|        Raquel Welch|     1940|     2023|actress,soundtrac...|tt0061653,tt00686...|\n",
      "|nm0000080|        Orson Welles|     1915|     1985|actor,director,wr...|tt0052311,tt00574...|\n",
      "|nm0000081|        Natalie Wood|     1938|     1981|actress,soundtrac...|tt0048545,tt00556...|\n",
      "|nm0000082|        Victor Young|     1899|     1956|music_department,...|tt0119094,tt00489...|\n",
      "|nm0000083|         Alan Miller|       \\N|       \\N|editor,writer,dir...|tt27504185,tt0969...|\n",
      "|nm0000084|             Gong Li|     1965|       \\N|    actress,producer|tt0397535,tt04734...|\n",
      "|nm0000085|      Henner Hofmann|     1950|       \\N|cinematographer,p...|tt0097523,tt18257...|\n",
      "|nm0000086|      Louis de Funès|     1914|     1983|actor,writer,soun...|tt0064425,tt00741...|\n",
      "|nm0000087|      Elena Koreneva|     1953|       \\N|actress,casting_d...|tt0123138,tt58477...|\n",
      "|nm0000088|     Aleksey Korenev|     1927|     1995|director,writer,a...|tt0068304,tt01911...|\n",
      "|nm0000089|        Richard Paul|     1940|     1998|    actor,soundtrack|tt0117318,tt00885...|\n",
      "|nm0000090| Armin Mueller-Stahl|     1930|       \\N|actor,director,wr...|tt0117631,tt09631...|\n",
      "|nm0000091|        Gérard Pirès|     1942|       \\N|director,writer,a...|tt0421974,tt00642...|\n",
      "|nm0000092|         John Cleese|     1939|       \\N|actor,writer,prod...|tt0095159,tt00718...|\n",
      "|nm0000093|           Brad Pitt|     1963|       \\N|producer,actor,so...|tt0356910,tt29355...|\n",
      "|nm0000094|           J. Reifel|       \\N|       \\N|              writer|tt0117915,tt01188...|\n",
      "|nm0000095|         Woody Allen|     1935|       \\N|writer,director,a...|tt0118954,tt00911...|\n",
      "|nm0000096|    Gillian Anderson|     1968|       \\N|actress,producer,...|tt0442632,tt22941...|\n",
      "|nm0000097|     Pamela Anderson|     1967|       \\N|actress,producer,...|tt0115624,tt04265...|\n",
      "|nm0000098|    Jennifer Aniston|     1969|       \\N|actress,producer,...|tt1723121,tt01087...|\n",
      "|nm0000099|   Patricia Arquette|     1968|       \\N|actress,producer,...|tt0145531,tt04121...|\n",
      "|nm0000100|      Rowan Atkinson|     1955|       \\N|actor,writer,prod...|tt0118689,tt02741...|\n",
      "+---------+--------------------+---------+---------+--------------------+--------------------+\n",
      "only showing top 100 rows\n",
      "\n"
     ]
    }
   ],
   "source": [
    "name_basics_df.show(100)"
   ],
   "metadata": {
    "collapsed": false
   }
  },
  {
   "cell_type": "code",
   "execution_count": 30,
   "outputs": [
    {
     "name": "stdout",
     "output_type": "stream",
     "text": [
      "+---------+---------------+---------+---------+-----------------+--------------+\n",
      "|   nconst|    primaryName|birthYear|deathYear|primaryProfession|knownForTitles|\n",
      "+---------+---------------+---------+---------+-----------------+--------------+\n",
      "|nm0000001|   Fred Astaire|     1899|     1987|       soundtrack|     tt0050419|\n",
      "|nm0000001|   Fred Astaire|     1899|     1987|       soundtrack|     tt0045537|\n",
      "|nm0000001|   Fred Astaire|     1899|     1987|       soundtrack|     tt0053137|\n",
      "|nm0000001|   Fred Astaire|     1899|     1987|       soundtrack|     tt0072308|\n",
      "|nm0000001|   Fred Astaire|     1899|     1987|            actor|     tt0050419|\n",
      "|nm0000001|   Fred Astaire|     1899|     1987|            actor|     tt0045537|\n",
      "|nm0000001|   Fred Astaire|     1899|     1987|            actor|     tt0053137|\n",
      "|nm0000001|   Fred Astaire|     1899|     1987|            actor|     tt0072308|\n",
      "|nm0000001|   Fred Astaire|     1899|     1987|    miscellaneous|     tt0050419|\n",
      "|nm0000001|   Fred Astaire|     1899|     1987|    miscellaneous|     tt0045537|\n",
      "|nm0000001|   Fred Astaire|     1899|     1987|    miscellaneous|     tt0053137|\n",
      "|nm0000001|   Fred Astaire|     1899|     1987|    miscellaneous|     tt0072308|\n",
      "|nm0000002|  Lauren Bacall|     1924|     2014|          actress|     tt0117057|\n",
      "|nm0000002|  Lauren Bacall|     1924|     2014|          actress|     tt0075213|\n",
      "|nm0000002|  Lauren Bacall|     1924|     2014|          actress|     tt0037382|\n",
      "|nm0000002|  Lauren Bacall|     1924|     2014|          actress|     tt0038355|\n",
      "|nm0000002|  Lauren Bacall|     1924|     2014|       soundtrack|     tt0117057|\n",
      "|nm0000002|  Lauren Bacall|     1924|     2014|       soundtrack|     tt0075213|\n",
      "|nm0000002|  Lauren Bacall|     1924|     2014|       soundtrack|     tt0037382|\n",
      "|nm0000002|  Lauren Bacall|     1924|     2014|       soundtrack|     tt0038355|\n",
      "|nm0000003|Brigitte Bardot|     1934|       \\N|          actress|     tt0057345|\n",
      "|nm0000003|Brigitte Bardot|     1934|       \\N|          actress|     tt0049189|\n",
      "|nm0000003|Brigitte Bardot|     1934|       \\N|          actress|     tt0054452|\n",
      "|nm0000003|Brigitte Bardot|     1934|       \\N|          actress|     tt0056404|\n",
      "|nm0000003|Brigitte Bardot|     1934|       \\N|       soundtrack|     tt0057345|\n",
      "|nm0000003|Brigitte Bardot|     1934|       \\N|       soundtrack|     tt0049189|\n",
      "|nm0000003|Brigitte Bardot|     1934|       \\N|       soundtrack|     tt0054452|\n",
      "|nm0000003|Brigitte Bardot|     1934|       \\N|       soundtrack|     tt0056404|\n",
      "|nm0000003|Brigitte Bardot|     1934|       \\N| music_department|     tt0057345|\n",
      "|nm0000003|Brigitte Bardot|     1934|       \\N| music_department|     tt0049189|\n",
      "|nm0000003|Brigitte Bardot|     1934|       \\N| music_department|     tt0054452|\n",
      "|nm0000003|Brigitte Bardot|     1934|       \\N| music_department|     tt0056404|\n",
      "|nm0000004|   John Belushi|     1949|     1982|            actor|     tt0072562|\n",
      "|nm0000004|   John Belushi|     1949|     1982|            actor|     tt0077975|\n",
      "|nm0000004|   John Belushi|     1949|     1982|            actor|     tt0078723|\n",
      "|nm0000004|   John Belushi|     1949|     1982|            actor|     tt0080455|\n",
      "|nm0000004|   John Belushi|     1949|     1982|       soundtrack|     tt0072562|\n",
      "|nm0000004|   John Belushi|     1949|     1982|       soundtrack|     tt0077975|\n",
      "|nm0000004|   John Belushi|     1949|     1982|       soundtrack|     tt0078723|\n",
      "|nm0000004|   John Belushi|     1949|     1982|       soundtrack|     tt0080455|\n",
      "|nm0000004|   John Belushi|     1949|     1982|           writer|     tt0072562|\n",
      "|nm0000004|   John Belushi|     1949|     1982|           writer|     tt0077975|\n",
      "|nm0000004|   John Belushi|     1949|     1982|           writer|     tt0078723|\n",
      "|nm0000004|   John Belushi|     1949|     1982|           writer|     tt0080455|\n",
      "|nm0000005| Ingmar Bergman|     1918|     2007|           writer|     tt0050986|\n",
      "|nm0000005| Ingmar Bergman|     1918|     2007|           writer|     tt0060827|\n",
      "|nm0000005| Ingmar Bergman|     1918|     2007|           writer|     tt0069467|\n",
      "|nm0000005| Ingmar Bergman|     1918|     2007|           writer|     tt0083922|\n",
      "|nm0000005| Ingmar Bergman|     1918|     2007|         director|     tt0050986|\n",
      "|nm0000005| Ingmar Bergman|     1918|     2007|         director|     tt0060827|\n",
      "|nm0000005| Ingmar Bergman|     1918|     2007|         director|     tt0069467|\n",
      "|nm0000005| Ingmar Bergman|     1918|     2007|         director|     tt0083922|\n",
      "|nm0000005| Ingmar Bergman|     1918|     2007|            actor|     tt0050986|\n",
      "|nm0000005| Ingmar Bergman|     1918|     2007|            actor|     tt0060827|\n",
      "|nm0000005| Ingmar Bergman|     1918|     2007|            actor|     tt0069467|\n",
      "|nm0000005| Ingmar Bergman|     1918|     2007|            actor|     tt0083922|\n",
      "|nm0000006| Ingrid Bergman|     1915|     1982|          actress|     tt0038787|\n",
      "|nm0000006| Ingrid Bergman|     1915|     1982|          actress|     tt0038109|\n",
      "|nm0000006| Ingrid Bergman|     1915|     1982|          actress|     tt0034583|\n",
      "|nm0000006| Ingrid Bergman|     1915|     1982|          actress|     tt0036855|\n",
      "|nm0000006| Ingrid Bergman|     1915|     1982|       soundtrack|     tt0038787|\n",
      "|nm0000006| Ingrid Bergman|     1915|     1982|       soundtrack|     tt0038109|\n",
      "|nm0000006| Ingrid Bergman|     1915|     1982|       soundtrack|     tt0034583|\n",
      "|nm0000006| Ingrid Bergman|     1915|     1982|       soundtrack|     tt0036855|\n",
      "|nm0000006| Ingrid Bergman|     1915|     1982|         producer|     tt0038787|\n",
      "|nm0000006| Ingrid Bergman|     1915|     1982|         producer|     tt0038109|\n",
      "|nm0000006| Ingrid Bergman|     1915|     1982|         producer|     tt0034583|\n",
      "|nm0000006| Ingrid Bergman|     1915|     1982|         producer|     tt0036855|\n",
      "|nm0000007|Humphrey Bogart|     1899|     1957|            actor|     tt0042593|\n",
      "|nm0000007|Humphrey Bogart|     1899|     1957|            actor|     tt0037382|\n",
      "|nm0000007|Humphrey Bogart|     1899|     1957|            actor|     tt0034583|\n",
      "|nm0000007|Humphrey Bogart|     1899|     1957|            actor|     tt0043265|\n",
      "|nm0000007|Humphrey Bogart|     1899|     1957|       soundtrack|     tt0042593|\n",
      "|nm0000007|Humphrey Bogart|     1899|     1957|       soundtrack|     tt0037382|\n",
      "|nm0000007|Humphrey Bogart|     1899|     1957|       soundtrack|     tt0034583|\n",
      "|nm0000007|Humphrey Bogart|     1899|     1957|       soundtrack|     tt0043265|\n",
      "|nm0000007|Humphrey Bogart|     1899|     1957|         producer|     tt0042593|\n",
      "|nm0000007|Humphrey Bogart|     1899|     1957|         producer|     tt0037382|\n",
      "|nm0000007|Humphrey Bogart|     1899|     1957|         producer|     tt0034583|\n",
      "|nm0000007|Humphrey Bogart|     1899|     1957|         producer|     tt0043265|\n",
      "|nm0000008|  Marlon Brando|     1924|     2004|            actor|     tt0078788|\n",
      "|nm0000008|  Marlon Brando|     1924|     2004|            actor|     tt0070849|\n",
      "|nm0000008|  Marlon Brando|     1924|     2004|            actor|     tt0068646|\n",
      "|nm0000008|  Marlon Brando|     1924|     2004|            actor|     tt0047296|\n",
      "|nm0000008|  Marlon Brando|     1924|     2004|       soundtrack|     tt0078788|\n",
      "|nm0000008|  Marlon Brando|     1924|     2004|       soundtrack|     tt0070849|\n",
      "|nm0000008|  Marlon Brando|     1924|     2004|       soundtrack|     tt0068646|\n",
      "|nm0000008|  Marlon Brando|     1924|     2004|       soundtrack|     tt0047296|\n",
      "|nm0000008|  Marlon Brando|     1924|     2004|         director|     tt0078788|\n",
      "|nm0000008|  Marlon Brando|     1924|     2004|         director|     tt0070849|\n",
      "|nm0000008|  Marlon Brando|     1924|     2004|         director|     tt0068646|\n",
      "|nm0000008|  Marlon Brando|     1924|     2004|         director|     tt0047296|\n",
      "|nm0000009| Richard Burton|     1925|     1984|            actor|     tt0057877|\n",
      "|nm0000009| Richard Burton|     1925|     1984|            actor|     tt0087803|\n",
      "|nm0000009| Richard Burton|     1925|     1984|            actor|     tt0059749|\n",
      "|nm0000009| Richard Burton|     1925|     1984|            actor|     tt0061184|\n",
      "|nm0000009| Richard Burton|     1925|     1984|       soundtrack|     tt0057877|\n",
      "|nm0000009| Richard Burton|     1925|     1984|       soundtrack|     tt0087803|\n",
      "|nm0000009| Richard Burton|     1925|     1984|       soundtrack|     tt0059749|\n",
      "|nm0000009| Richard Burton|     1925|     1984|       soundtrack|     tt0061184|\n",
      "+---------+---------------+---------+---------+-----------------+--------------+\n",
      "only showing top 100 rows\n",
      "\n"
     ]
    }
   ],
   "source": [
    "\n",
    "filtered_profession_nameBasics_df = name_basics_df.withColumn(\"primaryProfession\", explode(split(\"primaryProfession\", \",\")))\n",
    "\n",
    "filtered_title_nameBasics_df = filtered_profession_nameBasics_df.withColumn(\"knownForTitles\", explode(split(\"knownForTitles\", \",\")))\n",
    "\n",
    "filtered_nameBasics_df=filtered_title_nameBasics_df\n",
    "filtered_nameBasics_df.show(100)\n"
   ],
   "metadata": {
    "collapsed": false
   }
  },
  {
   "cell_type": "code",
   "execution_count": null,
   "outputs": [],
   "source": [],
   "metadata": {
    "collapsed": false
   }
  }
 ],
 "metadata": {
  "kernelspec": {
   "display_name": "Python 3",
   "language": "python",
   "name": "python3"
  },
  "language_info": {
   "codemirror_mode": {
    "name": "ipython",
    "version": 2
   },
   "file_extension": ".py",
   "mimetype": "text/x-python",
   "name": "python",
   "nbconvert_exporter": "python",
   "pygments_lexer": "ipython2",
   "version": "2.7.6"
  }
 },
 "nbformat": 4,
 "nbformat_minor": 0
}
